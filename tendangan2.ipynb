{
 "cells": [
  {
   "cell_type": "code",
   "execution_count": null,
   "id": "9161c644",
   "metadata": {},
   "outputs": [],
   "source": []
  },
  {
   "cell_type": "code",
   "execution_count": 2,
   "id": "48257de7",
   "metadata": {},
   "outputs": [
    {
     "name": "stdout",
     "output_type": "stream",
     "text": [
      "✅ Dataset disimpan ke pose_dataset_tendangan2.csv\n"
     ]
    }
   ],
   "source": [
    "import os\n",
    "import cv2\n",
    "import mediapipe as mp\n",
    "import pandas as pd\n",
    "\n",
    "mp_pose = mp.solutions.pose\n",
    "pose = mp_pose.Pose(static_image_mode=False)\n",
    "kategori = ['tendangan lurus', 'tendangan sabit']  # pastikan nama folder sesuai\n",
    "data_all = []\n",
    "\n",
    "for label in kategori:\n",
    "    folder = f'dataset/tendangan/{label}'\n",
    "    for filename in os.listdir(folder):\n",
    "        if filename.endswith('.mp4'):\n",
    "            cap = cv2.VideoCapture(os.path.join(folder, filename))\n",
    "            while cap.isOpened():\n",
    "                ret, frame = cap.read()\n",
    "                if not ret:\n",
    "                    break\n",
    "                image = cv2.cvtColor(frame, cv2.COLOR_BGR2RGB)\n",
    "                results = pose.process(image)\n",
    "                if results.pose_landmarks:\n",
    "                    row = []\n",
    "                    for lm in results.pose_landmarks.landmark:\n",
    "                        row.extend([lm.x, lm.y, lm.z, lm.visibility])\n",
    "                    row.append(label)\n",
    "                    data_all.append(row)\n",
    "            cap.release()\n",
    "\n",
    "pose.close()\n",
    "\n",
    "# Simpan ke CSV\n",
    "num_landmarks = 33 * 4  # x, y, z, v\n",
    "columns = [f'{i}_{axis}' for i in range(33) for axis in ['x', 'y', 'z', 'v']]\n",
    "columns.append('label')\n",
    "\n",
    "df = pd.DataFrame(data_all, columns=columns)\n",
    "df.to_csv('csv/pose_dataset_tendangan2.csv', index=False)\n",
    "print(\"✅ Dataset disimpan ke pose_dataset_tendangan2.csv\")\n"
   ]
  },
  {
   "cell_type": "code",
   "execution_count": 3,
   "id": "b83ea1ec",
   "metadata": {},
   "outputs": [
    {
     "name": "stdout",
     "output_type": "stream",
     "text": [
      "Epoch 1/50\n"
     ]
    },
    {
     "name": "stderr",
     "output_type": "stream",
     "text": [
      "c:\\Users\\filam\\AppData\\Local\\Programs\\Python\\Python312\\Lib\\site-packages\\keras\\src\\layers\\core\\dense.py:93: UserWarning: Do not pass an `input_shape`/`input_dim` argument to a layer. When using Sequential models, prefer using an `Input(shape)` object as the first layer in the model instead.\n",
      "  super().__init__(activity_regularizer=activity_regularizer, **kwargs)\n"
     ]
    },
    {
     "name": "stdout",
     "output_type": "stream",
     "text": [
      "\u001b[1m367/367\u001b[0m \u001b[32m━━━━━━━━━━━━━━━━━━━━\u001b[0m\u001b[37m\u001b[0m \u001b[1m2s\u001b[0m 3ms/step - accuracy: 0.5305 - loss: 0.6938 - val_accuracy: 0.6736 - val_loss: 0.6460\n",
      "Epoch 2/50\n",
      "\u001b[1m367/367\u001b[0m \u001b[32m━━━━━━━━━━━━━━━━━━━━\u001b[0m\u001b[37m\u001b[0m \u001b[1m1s\u001b[0m 3ms/step - accuracy: 0.6125 - loss: 0.6523 - val_accuracy: 0.7384 - val_loss: 0.5849\n",
      "Epoch 3/50\n",
      "\u001b[1m367/367\u001b[0m \u001b[32m━━━━━━━━━━━━━━━━━━━━\u001b[0m\u001b[37m\u001b[0m \u001b[1m2s\u001b[0m 4ms/step - accuracy: 0.6925 - loss: 0.5913 - val_accuracy: 0.7868 - val_loss: 0.4940\n",
      "Epoch 4/50\n",
      "\u001b[1m367/367\u001b[0m \u001b[32m━━━━━━━━━━━━━━━━━━━━\u001b[0m\u001b[37m\u001b[0m \u001b[1m2s\u001b[0m 3ms/step - accuracy: 0.7559 - loss: 0.5174 - val_accuracy: 0.8114 - val_loss: 0.4436\n",
      "Epoch 5/50\n",
      "\u001b[1m367/367\u001b[0m \u001b[32m━━━━━━━━━━━━━━━━━━━━\u001b[0m\u001b[37m\u001b[0m \u001b[1m1s\u001b[0m 2ms/step - accuracy: 0.7858 - loss: 0.4732 - val_accuracy: 0.8663 - val_loss: 0.3755\n",
      "Epoch 6/50\n",
      "\u001b[1m367/367\u001b[0m \u001b[32m━━━━━━━━━━━━━━━━━━━━\u001b[0m\u001b[37m\u001b[0m \u001b[1m1s\u001b[0m 2ms/step - accuracy: 0.8087 - loss: 0.4318 - val_accuracy: 0.8629 - val_loss: 0.3461\n",
      "Epoch 7/50\n",
      "\u001b[1m367/367\u001b[0m \u001b[32m━━━━━━━━━━━━━━━━━━━━\u001b[0m\u001b[37m\u001b[0m \u001b[1m1s\u001b[0m 3ms/step - accuracy: 0.8333 - loss: 0.3883 - val_accuracy: 0.8336 - val_loss: 0.3499\n",
      "Epoch 8/50\n",
      "\u001b[1m367/367\u001b[0m \u001b[32m━━━━━━━━━━━━━━━━━━━━\u001b[0m\u001b[37m\u001b[0m \u001b[1m1s\u001b[0m 3ms/step - accuracy: 0.8505 - loss: 0.3601 - val_accuracy: 0.8806 - val_loss: 0.2918\n",
      "Epoch 9/50\n",
      "\u001b[1m367/367\u001b[0m \u001b[32m━━━━━━━━━━━━━━━━━━━━\u001b[0m\u001b[37m\u001b[0m \u001b[1m1s\u001b[0m 2ms/step - accuracy: 0.8591 - loss: 0.3475 - val_accuracy: 0.8990 - val_loss: 0.2659\n",
      "Epoch 10/50\n",
      "\u001b[1m367/367\u001b[0m \u001b[32m━━━━━━━━━━━━━━━━━━━━\u001b[0m\u001b[37m\u001b[0m \u001b[1m1s\u001b[0m 3ms/step - accuracy: 0.8544 - loss: 0.3486 - val_accuracy: 0.9168 - val_loss: 0.2443\n",
      "Epoch 11/50\n",
      "\u001b[1m367/367\u001b[0m \u001b[32m━━━━━━━━━━━━━━━━━━━━\u001b[0m\u001b[37m\u001b[0m \u001b[1m1s\u001b[0m 2ms/step - accuracy: 0.8665 - loss: 0.3206 - val_accuracy: 0.9086 - val_loss: 0.2481\n",
      "Epoch 12/50\n",
      "\u001b[1m367/367\u001b[0m \u001b[32m━━━━━━━━━━━━━━━━━━━━\u001b[0m\u001b[37m\u001b[0m \u001b[1m1s\u001b[0m 3ms/step - accuracy: 0.8745 - loss: 0.3060 - val_accuracy: 0.9161 - val_loss: 0.2342\n",
      "Epoch 13/50\n",
      "\u001b[1m367/367\u001b[0m \u001b[32m━━━━━━━━━━━━━━━━━━━━\u001b[0m\u001b[37m\u001b[0m \u001b[1m1s\u001b[0m 2ms/step - accuracy: 0.8889 - loss: 0.2920 - val_accuracy: 0.8987 - val_loss: 0.2451\n",
      "Epoch 14/50\n",
      "\u001b[1m367/367\u001b[0m \u001b[32m━━━━━━━━━━━━━━━━━━━━\u001b[0m\u001b[37m\u001b[0m \u001b[1m1s\u001b[0m 2ms/step - accuracy: 0.8850 - loss: 0.2812 - val_accuracy: 0.9233 - val_loss: 0.2223\n",
      "Epoch 15/50\n",
      "\u001b[1m367/367\u001b[0m \u001b[32m━━━━━━━━━━━━━━━━━━━━\u001b[0m\u001b[37m\u001b[0m \u001b[1m1s\u001b[0m 2ms/step - accuracy: 0.8857 - loss: 0.2851 - val_accuracy: 0.9212 - val_loss: 0.2147\n",
      "Epoch 16/50\n",
      "\u001b[1m367/367\u001b[0m \u001b[32m━━━━━━━━━━━━━━━━━━━━\u001b[0m\u001b[37m\u001b[0m \u001b[1m1s\u001b[0m 2ms/step - accuracy: 0.8969 - loss: 0.2716 - val_accuracy: 0.9216 - val_loss: 0.2389\n",
      "Epoch 17/50\n",
      "\u001b[1m367/367\u001b[0m \u001b[32m━━━━━━━━━━━━━━━━━━━━\u001b[0m\u001b[37m\u001b[0m \u001b[1m1s\u001b[0m 4ms/step - accuracy: 0.8941 - loss: 0.2724 - val_accuracy: 0.9147 - val_loss: 0.2191\n",
      "Epoch 18/50\n",
      "\u001b[1m367/367\u001b[0m \u001b[32m━━━━━━━━━━━━━━━━━━━━\u001b[0m\u001b[37m\u001b[0m \u001b[1m2s\u001b[0m 4ms/step - accuracy: 0.8967 - loss: 0.2630 - val_accuracy: 0.9301 - val_loss: 0.1985\n",
      "Epoch 19/50\n",
      "\u001b[1m367/367\u001b[0m \u001b[32m━━━━━━━━━━━━━━━━━━━━\u001b[0m\u001b[37m\u001b[0m \u001b[1m3s\u001b[0m 4ms/step - accuracy: 0.9016 - loss: 0.2574 - val_accuracy: 0.9383 - val_loss: 0.1827\n",
      "Epoch 20/50\n",
      "\u001b[1m367/367\u001b[0m \u001b[32m━━━━━━━━━━━━━━━━━━━━\u001b[0m\u001b[37m\u001b[0m \u001b[1m2s\u001b[0m 5ms/step - accuracy: 0.9054 - loss: 0.2471 - val_accuracy: 0.9359 - val_loss: 0.2086\n",
      "Epoch 21/50\n",
      "\u001b[1m367/367\u001b[0m \u001b[32m━━━━━━━━━━━━━━━━━━━━\u001b[0m\u001b[37m\u001b[0m \u001b[1m1s\u001b[0m 4ms/step - accuracy: 0.8990 - loss: 0.2570 - val_accuracy: 0.9222 - val_loss: 0.1958\n",
      "Epoch 22/50\n",
      "\u001b[1m367/367\u001b[0m \u001b[32m━━━━━━━━━━━━━━━━━━━━\u001b[0m\u001b[37m\u001b[0m \u001b[1m1s\u001b[0m 4ms/step - accuracy: 0.9052 - loss: 0.2406 - val_accuracy: 0.9359 - val_loss: 0.1851\n",
      "Epoch 23/50\n",
      "\u001b[1m367/367\u001b[0m \u001b[32m━━━━━━━━━━━━━━━━━━━━\u001b[0m\u001b[37m\u001b[0m \u001b[1m1s\u001b[0m 4ms/step - accuracy: 0.9092 - loss: 0.2324 - val_accuracy: 0.9263 - val_loss: 0.1900\n",
      "Epoch 24/50\n",
      "\u001b[1m367/367\u001b[0m \u001b[32m━━━━━━━━━━━━━━━━━━━━\u001b[0m\u001b[37m\u001b[0m \u001b[1m1s\u001b[0m 3ms/step - accuracy: 0.9028 - loss: 0.2430 - val_accuracy: 0.9291 - val_loss: 0.1740\n",
      "Epoch 25/50\n",
      "\u001b[1m367/367\u001b[0m \u001b[32m━━━━━━━━━━━━━━━━━━━━\u001b[0m\u001b[37m\u001b[0m \u001b[1m1s\u001b[0m 3ms/step - accuracy: 0.9038 - loss: 0.2479 - val_accuracy: 0.9420 - val_loss: 0.1692\n",
      "Epoch 26/50\n",
      "\u001b[1m367/367\u001b[0m \u001b[32m━━━━━━━━━━━━━━━━━━━━\u001b[0m\u001b[37m\u001b[0m \u001b[1m1s\u001b[0m 3ms/step - accuracy: 0.9055 - loss: 0.2502 - val_accuracy: 0.9434 - val_loss: 0.1664\n",
      "Epoch 27/50\n",
      "\u001b[1m367/367\u001b[0m \u001b[32m━━━━━━━━━━━━━━━━━━━━\u001b[0m\u001b[37m\u001b[0m \u001b[1m2s\u001b[0m 5ms/step - accuracy: 0.9089 - loss: 0.2405 - val_accuracy: 0.9430 - val_loss: 0.1649\n",
      "Epoch 28/50\n",
      "\u001b[1m367/367\u001b[0m \u001b[32m━━━━━━━━━━━━━━━━━━━━\u001b[0m\u001b[37m\u001b[0m \u001b[1m1s\u001b[0m 3ms/step - accuracy: 0.9054 - loss: 0.2348 - val_accuracy: 0.9447 - val_loss: 0.1694\n",
      "Epoch 29/50\n",
      "\u001b[1m367/367\u001b[0m \u001b[32m━━━━━━━━━━━━━━━━━━━━\u001b[0m\u001b[37m\u001b[0m \u001b[1m1s\u001b[0m 3ms/step - accuracy: 0.9120 - loss: 0.2313 - val_accuracy: 0.9458 - val_loss: 0.1527\n",
      "Epoch 30/50\n",
      "\u001b[1m367/367\u001b[0m \u001b[32m━━━━━━━━━━━━━━━━━━━━\u001b[0m\u001b[37m\u001b[0m \u001b[1m1s\u001b[0m 3ms/step - accuracy: 0.9119 - loss: 0.2254 - val_accuracy: 0.9485 - val_loss: 0.1441\n",
      "Epoch 31/50\n",
      "\u001b[1m367/367\u001b[0m \u001b[32m━━━━━━━━━━━━━━━━━━━━\u001b[0m\u001b[37m\u001b[0m \u001b[1m1s\u001b[0m 4ms/step - accuracy: 0.9051 - loss: 0.2341 - val_accuracy: 0.9386 - val_loss: 0.1738\n",
      "Epoch 32/50\n",
      "\u001b[1m367/367\u001b[0m \u001b[32m━━━━━━━━━━━━━━━━━━━━\u001b[0m\u001b[37m\u001b[0m \u001b[1m1s\u001b[0m 3ms/step - accuracy: 0.9123 - loss: 0.2305 - val_accuracy: 0.9383 - val_loss: 0.1611\n",
      "Epoch 33/50\n",
      "\u001b[1m367/367\u001b[0m \u001b[32m━━━━━━━━━━━━━━━━━━━━\u001b[0m\u001b[37m\u001b[0m \u001b[1m1s\u001b[0m 3ms/step - accuracy: 0.9053 - loss: 0.2377 - val_accuracy: 0.9499 - val_loss: 0.1491\n",
      "Epoch 34/50\n",
      "\u001b[1m367/367\u001b[0m \u001b[32m━━━━━━━━━━━━━━━━━━━━\u001b[0m\u001b[37m\u001b[0m \u001b[1m1s\u001b[0m 3ms/step - accuracy: 0.9154 - loss: 0.2171 - val_accuracy: 0.9441 - val_loss: 0.1555\n",
      "Epoch 35/50\n",
      "\u001b[1m367/367\u001b[0m \u001b[32m━━━━━━━━━━━━━━━━━━━━\u001b[0m\u001b[37m\u001b[0m \u001b[1m1s\u001b[0m 4ms/step - accuracy: 0.9119 - loss: 0.2230 - val_accuracy: 0.9424 - val_loss: 0.1565\n"
     ]
    },
    {
     "name": "stderr",
     "output_type": "stream",
     "text": [
      "WARNING:absl:You are saving your model as an HDF5 file via `model.save()` or `keras.saving.save_model(model)`. This file format is considered legacy. We recommend using instead the native Keras format, e.g. `model.save('my_model.keras')` or `keras.saving.save_model(model, 'my_model.keras')`. \n"
     ]
    },
    {
     "name": "stdout",
     "output_type": "stream",
     "text": [
      "✅ Model disimpan ke model/model_tendangan2.h5\n"
     ]
    }
   ],
   "source": [
    "import pandas as pd\n",
    "from sklearn.model_selection import train_test_split\n",
    "from sklearn.preprocessing import LabelEncoder\n",
    "from tensorflow.keras.utils import to_categorical\n",
    "from tensorflow.keras.models import Sequential\n",
    "from tensorflow.keras.layers import Dense, Dropout\n",
    "from tensorflow.keras.callbacks import EarlyStopping\n",
    "\n",
    "# ✅ 1. Baca dataset\n",
    "df = pd.read_csv('csv/pose_dataset_tendangan2.csv')\n",
    "\n",
    "# ✅ 2. Ambil hanya titik-titik kaki (6 keypoint × 4 = 24 fitur)\n",
    "selected_indices = [23, 24, 25, 26, 27, 28]\n",
    "selected_columns = []\n",
    "\n",
    "for i in selected_indices:\n",
    "    for axis in ['x', 'y', 'z', 'v']:\n",
    "        selected_columns.append(f\"{i}_{axis}\")\n",
    "\n",
    "X = df[selected_columns].values.astype('float32')\n",
    "y = LabelEncoder().fit_transform(df['label'])\n",
    "y = to_categorical(y)\n",
    "\n",
    "X_train, X_test, y_train, y_test = train_test_split(X, y, test_size=0.2)\n",
    "\n",
    "# ✅ 3. Buat dan latih model\n",
    "model = Sequential([\n",
    "    Dense(64, activation='relu', input_shape=(X.shape[1],)),\n",
    "    Dropout(0.3),\n",
    "    Dense(32, activation='relu'),\n",
    "    Dropout(0.2),\n",
    "    Dense(y.shape[1], activation='softmax')\n",
    "])\n",
    "\n",
    "model.compile(optimizer='adam', loss='categorical_crossentropy', metrics=['accuracy'])\n",
    "early_stop = EarlyStopping(patience=5, restore_best_weights=True)\n",
    "\n",
    "model.fit(X_train, y_train, epochs=50, validation_data=(X_test, y_test), callbacks=[early_stop])\n",
    "\n",
    "model.save(\"model/model_tendangan2.h5\")\n",
    "print(\"✅ Model disimpan ke model/model_tendangan2.h5\")\n"
   ]
  },
  {
   "cell_type": "code",
   "execution_count": 4,
   "id": "4fa13545",
   "metadata": {},
   "outputs": [
    {
     "name": "stderr",
     "output_type": "stream",
     "text": [
      "WARNING:absl:Compiled the loaded model, but the compiled metrics have yet to be built. `model.compile_metrics` will be empty until you train or evaluate the model.\n"
     ]
    },
    {
     "name": "stdout",
     "output_type": "stream",
     "text": [
      "INFO:tensorflow:Assets written to: C:\\Users\\filam\\AppData\\Local\\Temp\\tmpn6za2oa9\\assets\n"
     ]
    },
    {
     "name": "stderr",
     "output_type": "stream",
     "text": [
      "INFO:tensorflow:Assets written to: C:\\Users\\filam\\AppData\\Local\\Temp\\tmpn6za2oa9\\assets\n"
     ]
    },
    {
     "name": "stdout",
     "output_type": "stream",
     "text": [
      "Saved artifact at 'C:\\Users\\filam\\AppData\\Local\\Temp\\tmpn6za2oa9'. The following endpoints are available:\n",
      "\n",
      "* Endpoint 'serve'\n",
      "  args_0 (POSITIONAL_ONLY): TensorSpec(shape=(None, 24), dtype=tf.float32, name='input_layer')\n",
      "Output Type:\n",
      "  TensorSpec(shape=(None, 2), dtype=tf.float32, name=None)\n",
      "Captures:\n",
      "  2092955161552: TensorSpec(shape=(), dtype=tf.resource, name=None)\n",
      "  2092962052240: TensorSpec(shape=(), dtype=tf.resource, name=None)\n",
      "  2092957453392: TensorSpec(shape=(), dtype=tf.resource, name=None)\n",
      "  2092957450320: TensorSpec(shape=(), dtype=tf.resource, name=None)\n",
      "  2092957453968: TensorSpec(shape=(), dtype=tf.resource, name=None)\n",
      "  2092957452624: TensorSpec(shape=(), dtype=tf.resource, name=None)\n",
      "✅ Model TFLite disimpan ke model_pukulan2.tflite\n"
     ]
    }
   ],
   "source": [
    "import tensorflow as tf\n",
    "from tensorflow import keras\n",
    "\n",
    "# Load model dari .h5\n",
    "model = keras.models.load_model(\"model/model_tendangan2.h5\")\n",
    "\n",
    "# Konversi ke TFLite\n",
    "converter = tf.lite.TFLiteConverter.from_keras_model(model)\n",
    "tflite_model = converter.convert()\n",
    "\n",
    "# Simpan ke file\n",
    "with open(\"model/model_tendangan2.tflite\", \"wb\") as f:\n",
    "    f.write(tflite_model)\n",
    "\n",
    "print(\"✅ Model TFLite disimpan ke model_pukulan2.tflite\")\n"
   ]
  },
  {
   "cell_type": "code",
   "execution_count": null,
   "id": "8be31c4d",
   "metadata": {},
   "outputs": [],
   "source": []
  }
 ],
 "metadata": {
  "kernelspec": {
   "display_name": "Python 3",
   "language": "python",
   "name": "python3"
  },
  "language_info": {
   "codemirror_mode": {
    "name": "ipython",
    "version": 3
   },
   "file_extension": ".py",
   "mimetype": "text/x-python",
   "name": "python",
   "nbconvert_exporter": "python",
   "pygments_lexer": "ipython3",
   "version": "3.12.3"
  }
 },
 "nbformat": 4,
 "nbformat_minor": 5
}
